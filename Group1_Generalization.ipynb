{
 "cells": [
  {
   "cell_type": "code",
   "execution_count": 66,
   "id": "9fde55a8",
   "metadata": {},
   "outputs": [],
   "source": [
    "import pandas as pd\n",
    "import numpy as np\n",
    "from sklearn.model_selection import train_test_split\n",
    "from sklearn.ensemble import ExtraTreesClassifier\n",
    "from sklearn.cluster import KMeans\n",
    "from sklearn.preprocessing import StandardScaler\n",
    "from sklearn.metrics import confusion_matrix, accuracy_score\n",
    "from sklearn.ensemble import RandomForestClassifier\n",
    "from sklearn.linear_model import LogisticRegression\n",
    "import matplotlib.pyplot as plt\n",
    "import seaborn as sns\n",
    "from sklearn.decomposition import PCA\n",
    "from xgboost import XGBClassifier\n",
    "import joblib\n",
    "import pickle"
   ]
  },
  {
   "cell_type": "code",
   "execution_count": 67,
   "id": "965abd87",
   "metadata": {},
   "outputs": [],
   "source": [
    "clf = joblib.load(\"./generalization_model/training_classifier.pkl\")\n",
    "clf_scaler = joblib.load(\"./generalization_model/training_scaler.pkl\")\n",
    "clf_pca = joblib.load(\"./generalization_model/training_pca.pkl\")\n"
   ]
  },
  {
   "cell_type": "code",
   "execution_count": 68,
   "id": "3642ed45",
   "metadata": {},
   "outputs": [],
   "source": [
    "df_test = pd.read_csv('./data/test_data.csv')\n",
    "Index = df_test['Index']\n",
    "df_test= df_test.drop(columns=['Index'])"
   ]
  },
  {
   "cell_type": "code",
   "execution_count": 69,
   "id": "a0e454eb",
   "metadata": {},
   "outputs": [
    {
     "name": "stdout",
     "output_type": "stream",
     "text": [
      "cluster\n",
      "3    353\n",
      "1    268\n",
      "4    243\n",
      "0     91\n",
      "2     57\n",
      "Name: count, dtype: int64\n"
     ]
    }
   ],
   "source": [
    "X_test = df_test\n",
    "X_test_np = clf_scaler.transform(X_test)\n",
    "X_test_pca = clf_pca.transform(X_test_np)\n",
    "labels=clf.predict(X_test_pca)\n",
    "X_test['cluster']=labels\n",
    "print(X_test['cluster'].value_counts())\n",
    "\n",
    "df_predict = pd.DataFrame({\n",
    "    'Index':Index,\n",
    "    'cluster':labels\n",
    "})\n",
    "df_predict['Bankrupt?'] = -1\n",
    "# if label =2, predict 0\n",
    "df_predict.loc[df_predict['cluster'] == 2, 'Bankrupt?'] = 0"
   ]
  },
  {
   "cell_type": "code",
   "execution_count": 70,
   "id": "de293c8f",
   "metadata": {},
   "outputs": [
    {
     "data": {
      "text/plain": [
       "Bankrupt?\n",
       "-1    864\n",
       " 0    126\n",
       " 1     22\n",
       "Name: count, dtype: int64"
      ]
     },
     "execution_count": 70,
     "metadata": {},
     "output_type": "execute_result"
    }
   ],
   "source": [
    "#extract the label 0\n",
    "idx_0 = df_predict['cluster'] == 0\n",
    "X_test_subgroup0 = X_test.loc[idx_0, :]\n",
    "subgroup0_extract_features = joblib.load(\"./subgroup0/extract_features.pkl\")\n",
    "subgroup0_scaler = joblib.load(\"./subgroup0/scaler.pkl\")\n",
    "subgroup0_model = joblib.load(\"./subgroup0/best_stack_model.pkl\")\n",
    "X_test_subgroup0_selected =X_test_subgroup0[subgroup0_extract_features]\n",
    "X_test_subgroup0_scaled = subgroup0_scaler.transform(X_test_subgroup0_selected)\n",
    "preds_0 = subgroup0_model.predict(X_test_subgroup0_scaled)\n",
    "df_predict.loc[idx_0, 'Bankrupt?'] = preds_0\n",
    "df_predict['Bankrupt?'].value_counts()"
   ]
  },
  {
   "cell_type": "code",
   "execution_count": 71,
   "id": "309e5fa3",
   "metadata": {},
   "outputs": [
    {
     "data": {
      "text/plain": [
       "Bankrupt?\n",
       "-1    596\n",
       " 0    394\n",
       " 1     22\n",
       "Name: count, dtype: int64"
      ]
     },
     "execution_count": 71,
     "metadata": {},
     "output_type": "execute_result"
    }
   ],
   "source": [
    "#extract the label 1\n",
    "idx_1 = df_predict['cluster'] == 1\n",
    "\n",
    "X_test_subgroup1 = X_test.loc[idx_1, :]\n",
    "X_test_subgroup1 = X_test_subgroup1.drop(columns=['cluster',' Net Income Flag'])\n",
    "X_test_subgroup1 = X_test_subgroup1.values\n",
    "\n",
    "subgroup1_pca = joblib.load(\"./subgroup1/XPCA.pkl\")\n",
    "subgroup1_scaler = joblib.load(\"./subgroup1/StScaler.pkl\")\n",
    "subgroup1_model = joblib.load(\"./subgroup1/StackCLF.pkl\")\n",
    "\n",
    "X_test_subgroup1_scaled = subgroup1_scaler.transform(X_test_subgroup1)\n",
    "X_test_subgroup1_selected =subgroup1_pca.transform(X_test_subgroup1_scaled)\n",
    "\n",
    "preds_1 = subgroup1_model.predict(X_test_subgroup1_selected)\n",
    "df_predict.loc[idx_1, 'Bankrupt?'] = preds_1\n",
    "df_predict['Bankrupt?'].value_counts()"
   ]
  },
  {
   "cell_type": "code",
   "execution_count": 72,
   "id": "d81a41c0",
   "metadata": {},
   "outputs": [
    {
     "data": {
      "text/plain": [
       "Bankrupt?\n",
       " 0    738\n",
       "-1    243\n",
       " 1     31\n",
       "Name: count, dtype: int64"
      ]
     },
     "execution_count": 72,
     "metadata": {},
     "output_type": "execute_result"
    }
   ],
   "source": [
    "#extract the label 3\n",
    "idx_3 = df_predict['cluster'] == 3\n",
    "\n",
    "X_test_subgroup3 = X_test.loc[idx_3, :]\n",
    "subgroup3_extract_features = joblib.load(\"./subgroup3/feature_names.pkl\")\n",
    "subgroup3_scaler = joblib.load(\"./subgroup3/scaler.pkl\")\n",
    "subgroup3_model = joblib.load(\"./subgroup3/stacking_model.pkl\")\n",
    "X_test_subgroup3_selected =X_test_subgroup3[subgroup3_extract_features]\n",
    "X_test_subgroup3_scaled = subgroup3_scaler.transform(X_test_subgroup3_selected)\n",
    "preds_3 = subgroup3_model.predict(X_test_subgroup3_scaled)\n",
    "df_predict.loc[idx_3, 'Bankrupt?'] = preds_3\n",
    "df_predict['Bankrupt?'].value_counts()"
   ]
  },
  {
   "cell_type": "code",
   "execution_count": 73,
   "id": "acd51c58",
   "metadata": {},
   "outputs": [
    {
     "data": {
      "text/plain": [
       "Bankrupt?\n",
       "0    964\n",
       "1     48\n",
       "Name: count, dtype: int64"
      ]
     },
     "execution_count": 73,
     "metadata": {},
     "output_type": "execute_result"
    }
   ],
   "source": [
    "#extract the label 4\n",
    "idx_4 = df_predict['cluster'] == 4\n",
    "\n",
    "subgroup4_extract = joblib.load(\"./subgroup4/extract_features.pkl\")\n",
    "subgroup4_pca = joblib.load(\"./subgroup4/pca.pkl\")\n",
    "subgroup4_scaler = joblib.load(\"./subgroup4/scaler.pkl\")\n",
    "subgroup4_model = joblib.load(\"./subgroup4/best_stack_model.pkl\")\n",
    "\n",
    "X_test_subgroup4 = X_test.loc[idx_4, subgroup4_extract]\n",
    "X_test_subgroup4_scaled = subgroup4_scaler.transform(X_test_subgroup4)\n",
    "X_test_subgroup4_selected =subgroup4_pca.transform(X_test_subgroup4_scaled)\n",
    "\n",
    "preds_4 = subgroup4_model.predict(X_test_subgroup4_selected)\n",
    "df_predict.loc[idx_4, 'Bankrupt?'] = preds_4\n",
    "df_predict['Bankrupt?'].value_counts()"
   ]
  },
  {
   "cell_type": "code",
   "execution_count": 74,
   "id": "c884620d",
   "metadata": {},
   "outputs": [
    {
     "name": "stdout",
     "output_type": "stream",
     "text": [
      "      Index  cluster  Bankrupt?\n",
      "0         0        1          0\n",
      "1         1        3          0\n",
      "2         2        1          0\n",
      "3         3        4          0\n",
      "4         4        0          0\n",
      "...     ...      ...        ...\n",
      "1007   1007        4          0\n",
      "1008   1008        3          0\n",
      "1009   1009        3          0\n",
      "1010   1010        1          0\n",
      "1011   1011        3          0\n",
      "\n",
      "[1012 rows x 3 columns]\n"
     ]
    }
   ],
   "source": [
    "print(df_predict)\n",
    "df_predict = df_predict.drop(columns=['cluster'])\n",
    "df_predict.to_csv('./Group1_Generalization.csv')"
   ]
  }
 ],
 "metadata": {
  "kernelspec": {
   "display_name": "Python 3",
   "language": "python",
   "name": "python3"
  },
  "language_info": {
   "codemirror_mode": {
    "name": "ipython",
    "version": 3
   },
   "file_extension": ".py",
   "mimetype": "text/x-python",
   "name": "python",
   "nbconvert_exporter": "python",
   "pygments_lexer": "ipython3",
   "version": "3.9.6"
  }
 },
 "nbformat": 4,
 "nbformat_minor": 5
}
