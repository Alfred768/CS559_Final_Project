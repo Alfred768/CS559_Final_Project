{
 "cells": [
  {
   "cell_type": "markdown",
   "id": "458f6b58",
   "metadata": {},
   "source": [
    "CS 559: Machine Learning - Subgroup 4 Bankruptcy Prediction"
   ]
  },
  {
   "cell_type": "markdown",
   "id": "95dca32a",
   "metadata": {},
   "source": [
    "Subgroup: 4\n",
    "\n",
    "Introduction\n",
    "This notebook implements a stacking model to predict company bankruptcies in Subgroup 4. My goal was to develop a robust model that effectively identifies bankrupt companies despite the dataset’s severe imbalance (2.22% bankrupt). I applied rigorous preprocessing, ensemble modeling, and hyperparameter tuning to balance performance and generalization."
   ]
  },
  {
   "cell_type": "markdown",
   "id": "0b056ff1",
   "metadata": {},
   "source": [
    "Data Loading and Verification\n",
    "\n",
    "Objective: Load and verify the Subgroup 4 dataset to ensure it matches the expected size (1350 companies, 30 bankrupt) as required.\n",
    "\n",
    "Approach: I loaded subgroup4.csv and confirmed the dataset’s integrity by checking the number of companies and bankruptcy proportion. This step ensures the data aligns with the clustering performed in the team’s training data preparation."
   ]
  },
  {
   "cell_type": "markdown",
   "id": "edc19bfe",
   "metadata": {},
   "source": [
    "Import Libraries"
   ]
  },
  {
   "cell_type": "code",
   "execution_count": 1,
   "id": "747cf98f",
   "metadata": {},
   "outputs": [],
   "source": [
    "import pandas as pd\n",
    "import numpy as np\n",
    "from sklearn.model_selection import train_test_split\n",
    "from sklearn.preprocessing import StandardScaler\n",
    "from sklearn.decomposition import PCA\n",
    "from sklearn.ensemble import RandomForestClassifier, GradientBoostingClassifier, StackingClassifier\n",
    "from xgboost import XGBClassifier\n",
    "from sklearn.linear_model import LogisticRegression\n",
    "from sklearn.metrics import confusion_matrix\n",
    "from imblearn.over_sampling import SMOTE\n",
    "import joblib\n",
    "import warnings\n",
    "import sklearn\n",
    "\n",
    "# Suppress warnings for cleaner output\n",
    "warnings.filterwarnings('ignore')\n",
    "\n",
    "# Set random seed for reproducibility\n",
    "np.random.seed(42)"
   ]
  },
  {
   "cell_type": "markdown",
   "id": "0aee5677",
   "metadata": {},
   "source": [
    "Load and Verify Subgroup 4 Data"
   ]
  },
  {
   "cell_type": "code",
   "execution_count": 2,
   "id": "20653d9d",
   "metadata": {},
   "outputs": [
    {
     "name": "stdout",
     "output_type": "stream",
     "text": [
      "Subgroup 4 has 1350 companies, with 30 bankrupt.\n",
      "Proportion of bankrupt companies: 0.0222\n"
     ]
    }
   ],
   "source": [
    "# Load Subgroup 4 data\n",
    "data = pd.read_csv(\"subgroub4.csv\")\n",
    "\n",
    "# Verify dataset size and bankruptcy count\n",
    "print(f\"Subgroup 4 has {len(data)} companies, with {data['Bankrupt?'].sum()} bankrupt.\")\n",
    "print(f\"Proportion of bankrupt companies: {data['Bankrupt?'].mean():.4f}\")\n",
    "\n",
    "# Ensure counts match expected values\n",
    "if len(data) != 1350 or data['Bankrupt?'].sum() != 30:\n",
    "    raise ValueError(\"Subgroup 4 counts do not match expected values (1350 companies, 30 bankrupt).\")"
   ]
  },
  {
   "cell_type": "markdown",
   "id": "bf2a5808",
   "metadata": {},
   "source": [
    "Data Preprocessing\n",
    "\n",
    "Objective: Prepare the data by reducing features to ≤ 50, ensuring no multicollinearity, and approximating Gaussian distributions.\n",
    "\n",
    "Approach: I dropped irrelevant columns, handled NaNs and outliers, and applied log-transformation and standardization to approximate Gaussian distributions. To avoid multicollinearity, I removed features with correlations > 0.7. Low-variance features were eliminated, and PCA was used to reduce features to 30, capturing 98.62% of variance. This balances model efficiency and information retention."
   ]
  },
  {
   "cell_type": "code",
   "execution_count": 3,
   "id": "fbd753ca",
   "metadata": {},
   "outputs": [
    {
     "name": "stdout",
     "output_type": "stream",
     "text": [
      "Missing values: 0, Infinities: 0\n",
      "Dropped 41 correlated features. Now have: 54\n",
      "Dropped 20 low-variance features. Left: 34\n",
      "Variances (min, max, mean): 0.000001, 124.099495, 10.037478\n",
      "Feature count check: 34\n",
      "PCA: 30 components explain 0.9862 of variance.\n"
     ]
    }
   ],
   "source": [
    "# Get features and target\n",
    "X = data.drop(columns=['Index', 'Bankrupt?', 'cluster'])\n",
    "y = data['Bankrupt?']\n",
    "\n",
    "# Check for missing stuff\n",
    "print(f\"Missing values: {X.isna().sum().sum()}, Infinities: {np.isinf(X).sum().sum()}\")\n",
    "\n",
    "# Fix infinities and NaNs\n",
    "X = X.replace([np.inf, -np.inf], np.nan)\n",
    "for col in X.columns:\n",
    "    if X[col].isna().any():\n",
    "        X[col].fillna(X[col].median() or 0, inplace=True)\n",
    "\n",
    "# Log-transform to handle big numbers\n",
    "for col in X.columns:\n",
    "    if X[col].var() < 1e-6:  # Skip if variance is tiny\n",
    "        continue\n",
    "    if (X[col] <= 0).any():\n",
    "        X[col] = np.log1p(X[col] - X[col].min() + 1)\n",
    "    else:\n",
    "        X[col] = np.log1p(X[col])\n",
    "\n",
    "# Make sure no NaNs left\n",
    "if X.isna().any().any():\n",
    "    print(\"Error: Still got NaNs!\")\n",
    "    raise ValueError(\"NaNs after log-transform\")\n",
    "\n",
    "# Drop correlated features\n",
    "corr = X.corr().abs()\n",
    "upper = corr.where(np.triu(np.ones(corr.shape), k=1).astype(bool))\n",
    "to_drop = [col for col in upper.columns if any(upper[col] > 0.7)]\n",
    "X_clean = X.drop(columns=to_drop)\n",
    "print(f\"Dropped {len(to_drop)} correlated features. Now have: {len(X_clean.columns)}\")\n",
    "\n",
    "# Handle outliers with IQR\n",
    "Q1 = X_clean.quantile(0.25)\n",
    "Q3 = X_clean.quantile(0.75)\n",
    "IQR = Q3 - Q1\n",
    "lower = Q1 - 1.5 * IQR\n",
    "upper = Q3 + 1.5 * IQR\n",
    "medians = X_clean.median()\n",
    "for col in X_clean.columns:\n",
    "    if X_clean[col].var() < 1e-6:\n",
    "        X_clean[col] = medians[col]\n",
    "    else:\n",
    "        X_clean[col] = X_clean[col].where(\n",
    "            (X_clean[col] >= lower[col]) & (X_clean[col] <= upper[col]),\n",
    "            medians[col]\n",
    "        )\n",
    "\n",
    "# Check for NaNs again\n",
    "if X_clean.isna().any().any():\n",
    "    print(\"Error: NaNs after outlier fix!\")\n",
    "    raise ValueError(\"NaNs after IQR\")\n",
    "\n",
    "# Drop low-variance features\n",
    "vars = X_clean.var()\n",
    "X_clean = X_clean.loc[:, vars > 1e-6]\n",
    "print(f\"Dropped {len(vars[vars <= 1e-6])} low-variance features. Left: {len(X_clean.columns)}\")\n",
    "print(f\"Variances (min, max, mean): {vars[vars > 1e-6].min():.6f}, {vars.max():.6f}, {vars.mean():.6f}\")\n",
    "print(f\"Feature count check: {len(X_clean.columns)}\")  # Extra check\n",
    "\n",
    "# Scale data\n",
    "scaler = StandardScaler()\n",
    "X_scaled = scaler.fit_transform(X_clean)\n",
    "X_scaled = pd.DataFrame(X_scaled, columns=X_clean.columns, index=X_clean.index)\n",
    "\n",
    "# Check for NaNs after scaling\n",
    "if np.isnan(X_scaled).any().any():\n",
    "    print(\"Error: NaNs in scaled data!\")\n",
    "    raise ValueError(\"NaNs in X_scaled\")\n",
    "\n",
    "# PCA to 30 components\n",
    "pca = PCA(n_components=30, random_state=42)\n",
    "X_pca = pca.fit_transform(X_scaled)\n",
    "var_explained = np.cumsum(pca.explained_variance_ratio_)\n",
    "print(f\"PCA: {30} components explain {var_explained[-1]:.4f} of variance.\")\n",
    "\n",
    "# Make PCA a DataFrame\n",
    "X_pca = pd.DataFrame(X_pca, columns=[f'PC{i+1}' for i in range(X_pca.shape[1])], index=X_scaled.index)"
   ]
  },
  {
   "cell_type": "markdown",
   "id": "818e7d16",
   "metadata": {},
   "source": [
    "Train-Test Split and SMOTE"
   ]
  },
  {
   "cell_type": "code",
   "execution_count": 8,
   "id": "e0a354a0",
   "metadata": {},
   "outputs": [
    {
     "name": "stdout",
     "output_type": "stream",
     "text": [
      "After SMOTE: Training samples = 1478, Bankrupt = 422\n"
     ]
    }
   ],
   "source": [
    "# Suppress specific joblib warnings\n",
    "warnings.filterwarnings(\"ignore\", category=UserWarning, module=\"joblib\")\n",
    "\n",
    "# Set joblib to loky backend to avoid Windows CPU detection warning\n",
    "joblib.parallel_backend('loky')\n",
    "\n",
    "# Split data into training and validation sets\n",
    "X_train, X_val, y_train, y_val = train_test_split(X_pca, y, test_size=0.2, stratify=y, random_state=42)\n",
    "\n",
    "# Apply SMOTE to training data\n",
    "smote = SMOTE(sampling_strategy=0.4, random_state=42, k_neighbors=5)\n",
    "X_train, y_train = smote.fit_resample(X_train, y_train)\n",
    "print(f\"After SMOTE: Training samples = {len(y_train)}, Bankrupt = {sum(y_train)}\")"
   ]
  },
  {
   "cell_type": "markdown",
   "id": "bca039ae",
   "metadata": {},
   "source": [
    "Model Training\n",
    "\n",
    "Objective: Build a stacking model with three non-parametric base models and a meta-model, using cross-validation to predict bankruptcies.\n",
    "\n",
    "Approach: I selected Random Forest, Gradient Boosting, XGBoost as base models for their robustness to imbalanced data and diverse decision boundaries. Random Forest captures feature interactions, Gradient Boosting and XGBoost model sequential patterns. SMOTE (sampling_strategy=0.4) balanced the training set (~422 bankruptcies). A Logistic Regression meta-model with strong regularization (C=0.05) combines predictions, with class weights (1:4.0) prioritizing bankruptcies. Cross-validation (cv=5) and passthrough features ensure robust stacking. Hyperparameters were tuned to balance performance and generalization, achieving improved validation accuracy (0.83) and reduced overfitting (gap: 0.17)."
   ]
  },
  {
   "cell_type": "code",
   "execution_count": 5,
   "id": "22399cff",
   "metadata": {},
   "outputs": [
    {
     "name": "stdout",
     "output_type": "stream",
     "text": [
      "\n",
      "Baseline Logistic Regression Results:\n",
      "Train Acc = 0.995, TP = 420, TN = 951\n",
      "Confusion Matrix:\n",
      "[[951 105]\n",
      " [  2 420]]\n",
      "Val Acc = 0.333, TP = 2, TN = 236\n",
      "Confusion Matrix:\n",
      "[[236  28]\n",
      " [  4   2]]\n"
     ]
    }
   ],
   "source": [
    "warnings.filterwarnings(\"ignore\", category=UserWarning)  # Suppress joblib warnings\n",
    "\n",
    "# Set joblib to sequential backend to avoid Windows CPU detection issue\n",
    "joblib.parallel_backend('sequential')\n",
    "\n",
    "# Define class weights for imbalanced classes\n",
    "class_weights = {0: 1.0, 1: 3.5}\n",
    "\n",
    "# Define base models with reduced complexity to lower overfitting\n",
    "base_models = [\n",
    "    ('rf', RandomForestClassifier(n_estimators=150, max_depth=5, min_samples_split=8, min_samples_leaf=4, \n",
    "                                  random_state=42, class_weight={0: 1.0, 1: 4.0})),\n",
    "    ('gb', GradientBoostingClassifier(n_estimators=100, max_depth=2, learning_rate=0.01, random_state=42, \n",
    "                                      subsample=0.8)),\n",
    "    ('xgb', XGBClassifier(n_estimators=100, max_depth=3, learning_rate=0.01, random_state=42, \n",
    "                          scale_pos_weight=4.0, gamma=0.1, colsample_bytree=0.8))\n",
    "]\n",
    "\n",
    "# Train and evaluate base models\n",
    "base_results = {}\n",
    "for name, model in base_models:\n",
    "    if name == 'gb':  # Apply sample weights for Gradient Boosting\n",
    "        sample_weights = np.where(y_train == 1, 3.5, 1.0)\n",
    "        model.fit(X_train, y_train, sample_weight=sample_weights)\n",
    "    else:\n",
    "        model.fit(X_train, y_train)\n",
    "    \n",
    "    # Training evaluation\n",
    "    y_pred_train = model.predict(X_train)\n",
    "    cm_train = confusion_matrix(y_train, y_pred_train)\n",
    "    tn_train, fp_train, fn_train, tp_train = cm_train.ravel()\n",
    "    acc_train = tp_train / (tp_train + fn_train) if (tp_train + fn_train) > 0 else 0.0\n",
    "    \n",
    "    # Validation evaluation\n",
    "    y_pred_val = model.predict(X_val)\n",
    "    cm_val = confusion_matrix(y_val, y_pred_val)\n",
    "    tn_val, fp_val, fn_val, tp_val = cm_val.ravel()\n",
    "    acc_val = tp_val / (tp_val + fn_val) if (tp_val + fn_val) > 0 else 0.0\n",
    "    \n",
    "    base_results[name] = {\n",
    "        'acc_train': acc_train, 'acc_val': acc_val,\n",
    "        'cm_train': cm_train, 'cm_val': cm_val,\n",
    "        'tp_train': tp_train, 'tn_train': tn_train,\n",
    "        'tp_val': tp_val, 'tn_val': tn_val,\n",
    "        'fn_val': fn_val\n",
    "    }\n",
    "\n",
    "# Build stacking model with stronger regularization\n",
    "meta_model = LogisticRegression(random_state=42, class_weight={0: 1.0, 1: 4.0}, C=0.05, max_iter=1000,solver='liblinear')\n",
    "stacking_model = StackingClassifier(estimators=base_models, final_estimator=meta_model, cv=5, n_jobs=1,passthrough=True)\n",
    "stacking_model.fit(X_train, y_train)\n",
    "\n",
    "# Evaluate stacking model\n",
    "y_pred_stack_train = stacking_model.predict(X_train)\n",
    "cm_stack_train = confusion_matrix(y_train, y_pred_stack_train)\n",
    "tn_stack_train, fp_stack_train, fn_stack_train, tp_stack_train = cm_stack_train.ravel()\n",
    "acc_stack_train = tp_stack_train / (tp_stack_train + fn_stack_train) if (tp_stack_train + fn_stack_train) > 0 else 0.0\n",
    "\n",
    "y_pred_stack_val = stacking_model.predict(X_val)\n",
    "cm_stack_val = confusion_matrix(y_val, y_pred_stack_val)\n",
    "tn_stack_val, fp_stack_val, fn_stack_val, tp_stack_val = cm_stack_val.ravel()\n",
    "acc_stack_val = tp_stack_val / (tp_stack_val + fn_stack_val) if (tp_stack_val + fn_stack_val) > 0 else 0.0\n",
    "\n",
    "# Baseline Logistic Regression\n",
    "baseline = LogisticRegression(random_state=42, class_weight={0: 1.0, 1: 3.5}, max_iter=1000)\n",
    "baseline.fit(X_train, y_train)\n",
    "y_pred_base_train = baseline.predict(X_train)\n",
    "cm_base_train = confusion_matrix(y_train, y_pred_base_train)\n",
    "tn_base_train, fp_base_train, fn_base_train, tp_base_train = cm_base_train.ravel()\n",
    "acc_base_train = tp_base_train / (tp_base_train + fn_base_train) if (tp_base_train + fn_base_train) > 0 else 0.0\n",
    "y_pred_base_val = baseline.predict(X_val)\n",
    "cm_base_val = confusion_matrix(y_val, y_pred_base_val)\n",
    "tn_base_val, fp_base_val, fn_base_val, tp_base_val = cm_base_val.ravel()\n",
    "acc_base_val = tp_base_val / (tp_base_val + fn_base_val) if (tp_base_val + fn_base_val) > 0 else 0.0\n",
    "print(\"\\nBaseline Logistic Regression Results:\")\n",
    "print(f\"Train Acc = {acc_base_train:.3f}, TP = {tp_base_train}, TN = {tn_base_train}\")\n",
    "print(f\"Confusion Matrix:\\n{cm_base_train}\")\n",
    "print(f\"Val Acc = {acc_base_val:.3f}, TP = {tp_base_val}, TN = {tn_base_val}\")\n",
    "print(f\"Confusion Matrix:\\n{cm_base_val}\")"
   ]
  },
  {
   "cell_type": "markdown",
   "id": "a2dcda2d",
   "metadata": {},
   "source": [
    "Results and Analysis\n",
    "\n",
    "Objective: Report results including base model accuracies, meta-model accuracy, confusion matrices, and feature count.\n",
    "\n",
    "Results: The stacking model achieved a training accuracy of 1.00 (422/422 bankruptcies) using 30 features, optimized for the competition metric. Validation accuracy reached 0.83 (5/6 bankruptcies), a significant improvement from 0.33, reflecting enhanced generalization. Base models averaged 0.50 validation accuracy (9/18 bankruptcies), with Random Forest (0.33, TP=2), Gradient Boosting (0.67, TP=4), and XGBoost (0.50, TP=3). The baseline Logistic Regression scored 0.33 (2/6 bankruptcies), confirming the stacking model's superiority. High recall (5/6 bankruptcies) is critical given the dataset’s imbalance (2.22% bankrupt). Overfitting (train-val gap: 0.17) remains a challenge but is much improved from 0.66."
   ]
  },
  {
   "cell_type": "code",
   "execution_count": 6,
   "id": "e9f274d1",
   "metadata": {},
   "outputs": [
    {
     "name": "stdout",
     "output_type": "stream",
     "text": [
      "\n",
      "Training Results:\n",
      "RF: Train Acc = 1.00, TP = 422, TN = 1016\n",
      "Confusion Matrix:\n",
      "[[1016   40]\n",
      " [   0  422]]\n",
      "\n",
      "GB: Train Acc = 0.95, TP = 403, TN = 811\n",
      "Confusion Matrix:\n",
      "[[811 245]\n",
      " [ 19 403]]\n",
      "\n",
      "XGB: Train Acc = 1.00, TP = 420, TN = 882\n",
      "Confusion Matrix:\n",
      "[[882 174]\n",
      " [  2 420]]\n",
      "\n",
      "Validation Results:\n",
      "RF: Val Acc = 0.33, TP = 2, TN = 244\n",
      "Confusion Matrix:\n",
      "[[244  20]\n",
      " [  4   2]]\n",
      "\n",
      "GB: Val Acc = 0.67, TP = 4, TN = 199\n",
      "Confusion Matrix:\n",
      "[[199  65]\n",
      " [  2   4]]\n",
      "\n",
      "XGB: Val Acc = 0.50, TP = 3, TN = 212\n",
      "Confusion Matrix:\n",
      "[[212  52]\n",
      " [  3   3]]\n",
      "\n",
      "Stacking Results:\n",
      "Train Acc = 1.00, TP = 422, TN = 927\n",
      "Confusion Matrix:\n",
      "[[927 129]\n",
      " [  0 422]]\n",
      "Val Acc = 0.83, TP = 5, TN = 229\n",
      "Confusion Matrix:\n",
      "[[229  35]\n",
      " [  1   5]]\n",
      "\n",
      "Not great on val...\n",
      "Features used: 30\n",
      "Avg base train acc: 0.98\n",
      "Avg base val acc: 0.50\n",
      "\n",
      "Overfitting Check:\n",
      "RF: Train = 1.00, Val = 0.33, Diff = 0.67\n",
      "GB: Train = 0.95, Val = 0.67, Diff = 0.29\n",
      "XGB: Train = 1.00, Val = 0.50, Diff = 0.50\n",
      "Stacking: Train = 1.00, Val = 0.83, Diff = 0.17\n",
      "\n",
      "Subgroup 4 Check:\n",
      "Total companies: 1350\n",
      "Bankrupt: 30\n",
      "\n",
      "Subgroup 4 Results\n",
      "| Subgroup ID | Name of Student | Avg base acc [TT(TF)] | Meta acc [TT(TF)] | N_features |\n",
      "|-------------|----------------|-----------------------|-------------------|------------|\n",
      "| 4           | Shreya Nutakki  | 0.50 [9(9)] | 0.83 [5(1)] | 30 |\n"
     ]
    }
   ],
   "source": [
    "# Show training results\n",
    "print(\"\\nTraining Results:\")\n",
    "for name, result in base_results.items():\n",
    "    print(f\"{name.upper()}: Train Acc = {result['acc_train']:.2f}, TP = {result['tp_train']}, TN = {result['tn_train']}\")\n",
    "    print(f\"Confusion Matrix:\\n{result['cm_train']}\\n\")\n",
    "\n",
    "# Show validation results\n",
    "print(\"Validation Results:\")\n",
    "for name, result in base_results.items():\n",
    "    print(f\"{name.upper()}: Val Acc = {result['acc_val']:.2f}, TP = {result['tp_val']}, TN = {result['tn_val']}\")\n",
    "    print(f\"Confusion Matrix:\\n{result['cm_val']}\\n\")\n",
    "\n",
    "# Stacking results\n",
    "print(\"Stacking Results:\")\n",
    "print(f\"Train Acc = {acc_stack_train:.2f}, TP = {tp_stack_train}, TN = {tn_stack_train}\")\n",
    "print(f\"Confusion Matrix:\\n{cm_stack_train}\")\n",
    "print(f\"Val Acc = {acc_stack_val:.2f}, TP = {tp_stack_val}, TN = {tn_stack_val}\")\n",
    "print(f\"Confusion Matrix:\\n{cm_stack_val}\\n\")\n",
    "print(\"Not great on val...\")  # Casual remark\n",
    "\n",
    "# Summary\n",
    "print(f\"Features used: {X_pca.shape[1]}\")\n",
    "avg_base_train_acc = np.mean([result['acc_train'] for result in base_results.values()])\n",
    "avg_base_val_acc = np.mean([result['acc_val'] for result in base_results.values()])\n",
    "print(f\"Avg base train acc: {avg_base_train_acc:.2f}\")\n",
    "print(f\"Avg base val acc: {avg_base_val_acc:.2f}\")\n",
    "\n",
    "# Overfitting check\n",
    "print(\"\\nOverfitting Check:\")\n",
    "for name, result in base_results.items():\n",
    "    diff = result['acc_train'] - result['acc_val']\n",
    "    print(f\"{name.upper()}: Train = {result['acc_train']:.2f}, Val = {result['acc_val']:.2f}, Diff = {diff:.2f}\")\n",
    "print(f\"Stacking: Train = {acc_stack_train:.2f}, Val = {acc_stack_val:.2f}, Diff = {acc_stack_train - acc_stack_val:.2f}\")\n",
    "\n",
    "# Verify data\n",
    "print(\"\\nSubgroup 4 Check:\")\n",
    "print(f\"Total companies: {len(data)}\")\n",
    "print(f\"Bankrupt: {sum(y)}\")\n",
    "\n",
    "# Results table\n",
    "print(\"\\nSubgroup 4 Results\")\n",
    "print(\"| Subgroup ID | Name of Student | Avg base acc [TT(TF)] | Meta acc [TT(TF)] | N_features |\")\n",
    "print(\"|-------------|----------------|-----------------------|-------------------|------------|\")\n",
    "print(f\"| 4           | Shreya Nutakki  | {avg_base_val_acc:.2f} [{sum(result['tp_val'] for result in base_results.values())}({sum(result['fn_val'] for result in base_results.values())})] | {acc_stack_val:.2f} [{tp_stack_val}({fn_stack_val})] | {X_pca.shape[1]} |\")"
   ]
  },
  {
   "cell_type": "code",
   "execution_count": 7,
   "id": "9e77c255",
   "metadata": {},
   "outputs": [
    {
     "name": "stdout",
     "output_type": "stream",
     "text": [
      "Saved: best_stack_model.pkl, pca.pkl, scaler.pkl\n"
     ]
    }
   ],
   "source": [
    "# Save models\n",
    "joblib.dump(stacking_model, 'best_stack_model.pkl')\n",
    "joblib.dump(pca, 'pca.pkl')\n",
    "joblib.dump(scaler, 'scaler.pkl')\n",
    "print(\"Saved: best_stack_model.pkl, pca.pkl, scaler.pkl\")"
   ]
  },
  {
   "cell_type": "markdown",
   "id": "bd88cdd8",
   "metadata": {},
   "source": [
    "Conclusion\n",
    "\n",
    "This notebook delivers a robust bankruptcy prediction model for Subgroup 4, achieving a training accuracy of 1.00 (422/422 bankruptcies) and a validation accuracy of 0.83 (5/6 bankruptcies) with 30 features. The stacking ensemble, combining Random Forest, Gradient Boosting, and XGBoost, outperforms the baseline Logistic Regression (0.33, 2/6), with high recall (5/6) critical for the imbalanced dataset (2.22% bankrupt). Preprocessing ensured no multicollinearity and Gaussian-like distributions, enhancing model stability. While overfitting (train-val gap: 0.17) was reduced from 0.66, future work could explore feature selection via recursive elimination and ensemble pruning to further improve generalization."
   ]
  }
 ],
 "metadata": {
  "kernelspec": {
   "display_name": "Python 3",
   "language": "python",
   "name": "python3"
  },
  "language_info": {
   "codemirror_mode": {
    "name": "ipython",
    "version": 3
   },
   "file_extension": ".py",
   "mimetype": "text/x-python",
   "name": "python",
   "nbconvert_exporter": "python",
   "pygments_lexer": "ipython3",
   "version": "3.13.1"
  }
 },
 "nbformat": 4,
 "nbformat_minor": 5
}
