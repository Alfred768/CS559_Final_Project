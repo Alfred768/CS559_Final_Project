{
 "cells": [
  {
   "cell_type": "code",
   "execution_count": 1,
   "id": "5ce3f7a8",
   "metadata": {},
   "outputs": [],
   "source": [
    "import pandas as pd\n",
    "import numpy as np\n",
    "from sklearn.model_selection import train_test_split\n",
    "from sklearn.ensemble import ExtraTreesClassifier\n",
    "from sklearn.cluster import KMeans\n",
    "from sklearn.preprocessing import StandardScaler\n",
    "from sklearn.metrics import confusion_matrix, accuracy_score\n",
    "from sklearn.ensemble import RandomForestClassifier\n",
    "from sklearn.linear_model import LogisticRegression\n",
    "import matplotlib.pyplot as plt\n",
    "import seaborn as sns\n",
    "from sklearn.decomposition import PCA\n",
    "from xgboost import XGBClassifier\n",
    "import joblib"
   ]
  },
  {
   "cell_type": "code",
   "execution_count": 2,
   "id": "51b89e34",
   "metadata": {},
   "outputs": [
    {
     "name": "stdout",
     "output_type": "stream",
     "text": [
      "<class 'pandas.core.frame.DataFrame'>\n",
      "RangeIndex: 5807 entries, 0 to 5806\n",
      "Data columns (total 97 columns):\n",
      " #   Column                                                    Non-Null Count  Dtype  \n",
      "---  ------                                                    --------------  -----  \n",
      " 0   Index                                                     5807 non-null   int64  \n",
      " 1   Bankrupt?                                                 5807 non-null   int64  \n",
      " 2    ROA(C) before interest and depreciation before interest  5807 non-null   float64\n",
      " 3    ROA(A) before interest and % after tax                   5807 non-null   float64\n",
      " 4    ROA(B) before interest and depreciation after tax        5807 non-null   float64\n",
      " 5    Operating Gross Margin                                   5807 non-null   float64\n",
      " 6    Realized Sales Gross Margin                              5807 non-null   float64\n",
      " 7    Operating Profit Rate                                    5807 non-null   float64\n",
      " 8    Pre-tax net Interest Rate                                5807 non-null   float64\n",
      " 9    After-tax net Interest Rate                              5807 non-null   float64\n",
      " 10   Non-industry income and expenditure/revenue              5807 non-null   float64\n",
      " 11   Continuous interest rate (after tax)                     5807 non-null   float64\n",
      " 12   Operating Expense Rate                                   5807 non-null   float64\n",
      " 13   Research and development expense rate                    5807 non-null   float64\n",
      " 14   Cash flow rate                                           5807 non-null   float64\n",
      " 15   Interest-bearing debt interest rate                      5807 non-null   float64\n",
      " 16   Tax rate (A)                                             5807 non-null   float64\n",
      " 17   Net Value Per Share (B)                                  5807 non-null   float64\n",
      " 18   Net Value Per Share (A)                                  5807 non-null   float64\n",
      " 19   Net Value Per Share (C)                                  5807 non-null   float64\n",
      " 20   Persistent EPS in the Last Four Seasons                  5807 non-null   float64\n",
      " 21   Cash Flow Per Share                                      5807 non-null   float64\n",
      " 22   Revenue Per Share (Yuan ¥)                               5807 non-null   float64\n",
      " 23   Operating Profit Per Share (Yuan ¥)                      5807 non-null   float64\n",
      " 24   Per Share Net profit before tax (Yuan ¥)                 5807 non-null   float64\n",
      " 25   Realized Sales Gross Profit Growth Rate                  5807 non-null   float64\n",
      " 26   Operating Profit Growth Rate                             5807 non-null   float64\n",
      " 27   After-tax Net Profit Growth Rate                         5807 non-null   float64\n",
      " 28   Regular Net Profit Growth Rate                           5807 non-null   float64\n",
      " 29   Continuous Net Profit Growth Rate                        5807 non-null   float64\n",
      " 30   Total Asset Growth Rate                                  5807 non-null   float64\n",
      " 31   Net Value Growth Rate                                    5807 non-null   float64\n",
      " 32   Total Asset Return Growth Rate Ratio                     5807 non-null   float64\n",
      " 33   Cash Reinvestment %                                      5807 non-null   float64\n",
      " 34   Current Ratio                                            5807 non-null   float64\n",
      " 35   Quick Ratio                                              5807 non-null   float64\n",
      " 36   Interest Expense Ratio                                   5807 non-null   float64\n",
      " 37   Total debt/Total net worth                               5807 non-null   float64\n",
      " 38   Debt ratio %                                             5807 non-null   float64\n",
      " 39   Net worth/Assets                                         5807 non-null   float64\n",
      " 40   Long-term fund suitability ratio (A)                     5807 non-null   float64\n",
      " 41   Borrowing dependency                                     5807 non-null   float64\n",
      " 42   Contingent liabilities/Net worth                         5807 non-null   float64\n",
      " 43   Operating profit/Paid-in capital                         5807 non-null   float64\n",
      " 44   Net profit before tax/Paid-in capital                    5807 non-null   float64\n",
      " 45   Inventory and accounts receivable/Net value              5807 non-null   float64\n",
      " 46   Total Asset Turnover                                     5807 non-null   float64\n",
      " 47   Accounts Receivable Turnover                             5807 non-null   float64\n",
      " 48   Average Collection Days                                  5807 non-null   float64\n",
      " 49   Inventory Turnover Rate (times)                          5807 non-null   float64\n",
      " 50   Fixed Assets Turnover Frequency                          5807 non-null   float64\n",
      " 51   Net Worth Turnover Rate (times)                          5807 non-null   float64\n",
      " 52   Revenue per person                                       5807 non-null   float64\n",
      " 53   Operating profit per person                              5807 non-null   float64\n",
      " 54   Allocation rate per person                               5807 non-null   float64\n",
      " 55   Working Capital to Total Assets                          5807 non-null   float64\n",
      " 56   Quick Assets/Total Assets                                5807 non-null   float64\n",
      " 57   Current Assets/Total Assets                              5807 non-null   float64\n",
      " 58   Cash/Total Assets                                        5807 non-null   float64\n",
      " 59   Quick Assets/Current Liability                           5807 non-null   float64\n",
      " 60   Cash/Current Liability                                   5807 non-null   float64\n",
      " 61   Current Liability to Assets                              5807 non-null   float64\n",
      " 62   Operating Funds to Liability                             5807 non-null   float64\n",
      " 63   Inventory/Working Capital                                5807 non-null   float64\n",
      " 64   Inventory/Current Liability                              5807 non-null   float64\n",
      " 65   Current Liabilities/Liability                            5807 non-null   float64\n",
      " 66   Working Capital/Equity                                   5807 non-null   float64\n",
      " 67   Current Liabilities/Equity                               5807 non-null   float64\n",
      " 68   Long-term Liability to Current Assets                    5807 non-null   float64\n",
      " 69   Retained Earnings to Total Assets                        5807 non-null   float64\n",
      " 70   Total income/Total expense                               5807 non-null   float64\n",
      " 71   Total expense/Assets                                     5807 non-null   float64\n",
      " 72   Current Asset Turnover Rate                              5807 non-null   float64\n",
      " 73   Quick Asset Turnover Rate                                5807 non-null   float64\n",
      " 74   Working capitcal Turnover Rate                           5807 non-null   float64\n",
      " 75   Cash Turnover Rate                                       5807 non-null   float64\n",
      " 76   Cash Flow to Sales                                       5807 non-null   float64\n",
      " 77   Fixed Assets to Assets                                   5807 non-null   float64\n",
      " 78   Current Liability to Liability                           5807 non-null   float64\n",
      " 79   Current Liability to Equity                              5807 non-null   float64\n",
      " 80   Equity to Long-term Liability                            5807 non-null   float64\n",
      " 81   Cash Flow to Total Assets                                5807 non-null   float64\n",
      " 82   Cash Flow to Liability                                   5807 non-null   float64\n",
      " 83   CFO to Assets                                            5807 non-null   float64\n",
      " 84   Cash Flow to Equity                                      5807 non-null   float64\n",
      " 85   Current Liability to Current Assets                      5807 non-null   float64\n",
      " 86   Liability-Assets Flag                                    5807 non-null   int64  \n",
      " 87   Net Income to Total Assets                               5807 non-null   float64\n",
      " 88   Total assets to GNP price                                5807 non-null   float64\n",
      " 89   No-credit Interval                                       5807 non-null   float64\n",
      " 90   Gross Profit to Sales                                    5807 non-null   float64\n",
      " 91   Net Income to Stockholder's Equity                       5807 non-null   float64\n",
      " 92   Liability to Equity                                      5807 non-null   float64\n",
      " 93   Degree of Financial Leverage (DFL)                       5807 non-null   float64\n",
      " 94   Interest Coverage Ratio (Interest expense to EBIT)       5807 non-null   float64\n",
      " 95   Net Income Flag                                          5807 non-null   int64  \n",
      " 96   Equity to Liability                                      5807 non-null   float64\n",
      "dtypes: float64(93), int64(4)\n",
      "memory usage: 4.3 MB\n",
      "None\n"
     ]
    }
   ],
   "source": [
    "df = pd.read_csv('/Users/wugaoyi/Learning/cs559/cs559_Final_Project/data/train_data.csv',na_values='?')\n",
    "print(df.info())\n",
    "# drop the non-relevant column\n",
    "Index = df['Index']\n",
    "df= df.drop(columns=['Index'])\n"
   ]
  },
  {
   "cell_type": "code",
   "execution_count": 3,
   "id": "b9cfdcab",
   "metadata": {},
   "outputs": [
    {
     "name": "stdout",
     "output_type": "stream",
     "text": [
      "the number of rows before removal non-val data 0\n",
      "the number of rows before removal duplicated data 0\n"
     ]
    }
   ],
   "source": [
    "rows,cols = df.shape\n",
    "print(f'the number of rows before removal non-val data {df.isna().any(axis=1).sum()}')\n",
    "df.dropna(inplace=True)\n",
    "print(f'the number of rows before removal duplicated data {df.duplicated().sum()}')\n",
    "df = df.drop_duplicates()\n",
    "rows,cols = df.shape\n",
    "# the data is very clean"
   ]
  },
  {
   "cell_type": "code",
   "execution_count": 4,
   "id": "b1cb4012",
   "metadata": {},
   "outputs": [],
   "source": [
    "X = df.drop(columns=['Bankrupt?'])\n",
    "y = df['Bankrupt?']"
   ]
  },
  {
   "cell_type": "code",
   "execution_count": 5,
   "id": "7bdb2351",
   "metadata": {},
   "outputs": [],
   "source": [
    "# standarization\n",
    "scaler = StandardScaler()\n",
    "X_scaled = scaler.fit_transform(X)"
   ]
  },
  {
   "cell_type": "code",
   "execution_count": 6,
   "id": "80205547",
   "metadata": {},
   "outputs": [
    {
     "name": "stdout",
     "output_type": "stream",
     "text": [
      "cluster\n",
      "3    2163\n",
      "1    1444\n",
      "4    1350\n",
      "0     479\n",
      "2     371\n",
      "Name: count, dtype: int64\n",
      "the subgroup 0 has 105\n",
      "the subgroup 1 has 4\n",
      "the subgroup 2 has 0\n",
      "the subgroup 3 has 59\n",
      "the subgroup 4 has 30\n"
     ]
    }
   ],
   "source": [
    "# split the data into 4 sub-group\n",
    "kmeans =KMeans(n_clusters=5,random_state=20)\n",
    "kmeans.fit(X_scaled)\n",
    "labels = kmeans.labels_\n",
    "df_cluster = pd.DataFrame({\n",
    "    'Index':df.index,\n",
    "    'cluster':labels\n",
    "})\n",
    "print(df_cluster['cluster'].value_counts())\n",
    "df = pd.concat([df,df_cluster],axis=1)\n",
    "# df.to_csv('train_data_with_cluster',index=False)\n",
    "\n",
    "for i in range(5):\n",
    "    idx = (labels==i)\n",
    "    subgroup = df[idx]\n",
    "    print(f\"the subgroup {i} has {subgroup['Bankrupt?'].sum()}\")\n",
    "    # subgroup.to_csv(f'subgroub{i}',index=False)\n"
   ]
  },
  {
   "cell_type": "code",
   "execution_count": 7,
   "id": "3ecf20b3",
   "metadata": {},
   "outputs": [
    {
     "name": "stdout",
     "output_type": "stream",
     "text": [
      "Accuracy: 0.9882920110192838\n",
      "[[115   0   0   2   0]\n",
      " [  0 352   1   3   1]\n",
      " [  0   1  84   0   0]\n",
      " [  2   1   1 556   2]\n",
      " [  1   0   0   2 328]]\n"
     ]
    }
   ],
   "source": [
    "pca = PCA(n_components=0.55)\n",
    "X_pca = pca.fit_transform(X_scaled)\n",
    "X_train, X_test, y_train, y_test = train_test_split(X_pca, labels, random_state=42)\n",
    "\n",
    "clf = LogisticRegression(max_iter=1000)\n",
    "clf.fit(X_train, y_train)\n",
    "preds = clf.predict(X_test)\n",
    "print(\"Accuracy:\", accuracy_score(y_test, preds))\n",
    "print(confusion_matrix(y_test,preds))\n"
   ]
  },
  {
   "cell_type": "code",
   "execution_count": 8,
   "id": "d4072192",
   "metadata": {},
   "outputs": [
    {
     "data": {
      "text/plain": [
       "['generalization_model/training_classifier.pkl']"
      ]
     },
     "execution_count": 8,
     "metadata": {},
     "output_type": "execute_result"
    }
   ],
   "source": [
    "import joblib\n",
    "import os\n",
    "\n",
    "os.makedirs(\"generalization_model\", exist_ok=True)\n",
    "\n",
    "joblib.dump(pca, \"generalization_model/training_pca.pkl\")\n",
    "\n",
    "joblib.dump(scaler, \"generalization_model/training_scaler.pkl\")\n",
    "\n",
    "joblib.dump(clf, \"generalization_model/training_classifier.pkl\")"
   ]
  },
  {
   "cell_type": "code",
   "execution_count": 9,
   "id": "3b4958ce",
   "metadata": {},
   "outputs": [],
   "source": [
    "# df_test = pd.read_csv('./data/test_data.csv')\n",
    "# Index = df_test['Index']\n",
    "# df_test= df_test.drop(columns=['Index'])"
   ]
  },
  {
   "cell_type": "code",
   "execution_count": 10,
   "id": "97ab399e",
   "metadata": {},
   "outputs": [],
   "source": [
    "# X_test = df_test\n",
    "# X_test_np = scaler.transform(X_test)\n",
    "# X_test_pca = pca.transform(X_test_np)\n",
    "# labels=clf.predict(X_test_pca)\n",
    "# X_test['cluster']=labels\n",
    "# print(X_test['cluster'].value_counts())\n",
    "\n",
    "# df_predict = pd.DataFrame({\n",
    "#     'Index':Index,\n",
    "#     'cluster':labels\n",
    "# })\n",
    "# df_predict['prediction'] = -1\n",
    "# df_predict.loc[df_predict['cluster'] == 2, 'prediction'] = 0\n",
    "\n",
    "# #extract the label 0\n",
    "# idx_0 = df_predict['cluster'] == 0\n",
    "# X_test_subgroup0 = X_test.loc[idx_0, :]\n",
    "# subgroup0_extract_features = joblib.load(\"./subgroup0_model/extract_features.pkl\")\n",
    "# subgroup0_scaler = joblib.load(\"./subgroup0_model/scaler.pkl\")\n",
    "# subgroup0_model = joblib.load(\"./subgroup0_model/best_stack_model.pkl\")\n",
    "# X_test_subgroup0_selected =X_test_subgroup0[subgroup0_extract_features]\n",
    "# X_test_subgroup0_scaled = subgroup0_scaler.transform(X_test_subgroup0_selected)\n",
    "# preds_0 = subgroup0_model.predict(X_test_subgroup0_scaled)\n",
    "# df_predict.loc[idx_0, 'prediction'] = preds_0\n",
    "# df_predict['prediction'].value_counts()"
   ]
  }
 ],
 "metadata": {
  "kernelspec": {
   "display_name": "Python 3",
   "language": "python",
   "name": "python3"
  },
  "language_info": {
   "codemirror_mode": {
    "name": "ipython",
    "version": 3
   },
   "file_extension": ".py",
   "mimetype": "text/x-python",
   "name": "python",
   "nbconvert_exporter": "python",
   "pygments_lexer": "ipython3",
   "version": "3.9.6"
  }
 },
 "nbformat": 4,
 "nbformat_minor": 5
}
